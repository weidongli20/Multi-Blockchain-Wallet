{
 "cells": [
  {
   "cell_type": "code",
   "execution_count": 1,
   "metadata": {},
   "outputs": [],
   "source": [
    "import os\n",
    "import subprocess\n",
    "import json\n",
    "\n",
    "from web3 import Web3\n",
    "from web3.middleware import geth_poa_middleware\n",
    "from eth_account import Account\n",
    "\n",
    "from bit import wif_to_key, PrivateKeyTestnet\n",
    "from bit.network import NetworkAPI\n",
    "\n",
    "from dotenv import load_dotenv\n",
    "\n",
    "from constants import *"
   ]
  },
  {
   "cell_type": "code",
   "execution_count": 2,
   "metadata": {},
   "outputs": [],
   "source": [
    "w3 = Web3(Web3.HTTPProvider(\"HTTP://127.0.0.1:8545\"))"
   ]
  },
  {
   "cell_type": "code",
   "execution_count": 3,
   "metadata": {},
   "outputs": [],
   "source": [
    "load_dotenv()\n",
    "mnemonic = os.getenv('MNEMONIC')"
   ]
  },
  {
   "cell_type": "code",
   "execution_count": 4,
   "metadata": {},
   "outputs": [],
   "source": [
    "def derive_wallets(mnemonic, coin, numdriv=3):\n",
    "    command = (f'./derive -g --mnemonic=\"{mnemonic}\" '\n",
    "            f'--coin=\"{coin}\" --numderive={numdriv} '\n",
    "            '--cols=path,address,privkey,pubkey --format=json')\n",
    "\n",
    "    p = subprocess.Popen(command, \n",
    "                         stdout=subprocess.PIPE, \n",
    "                         shell=True)\n",
    "    output, err = p.communicate()\n",
    "    p_status = p.wait()\n",
    "\n",
    "    keys = json.loads(output)\n",
    "    #print(keys)\n",
    "    return keys"
   ]
  },
  {
   "cell_type": "code",
   "execution_count": 5,
   "metadata": {},
   "outputs": [],
   "source": [
    "def priv_key_to_account(coin, priv_key):\n",
    "    if coin == BTC:\n",
    "        return Account.privateKeyToAccount(priv_key)\n",
    "    elif coin == BTCTEST:\n",
    "        return PrivateKeyTestnet(priv_key)\n",
    "    elif coin == ETH:\n",
    "        return Account.from_key(priv_key)\n",
    "    else:\n",
    "        print(\"Pleae check the coin\")\n",
    "     "
   ]
  },
  {
   "cell_type": "code",
   "execution_count": 9,
   "metadata": {},
   "outputs": [],
   "source": [
    "def create_tx(coin, account, to, amount):\n",
    "    if coin == ETH:\n",
    "            gasEstimate = w3.eth.estimateGas(\n",
    "                {\"from\": account.address, \n",
    "                 \"to\": to, \n",
    "                 \"value\": amount}\n",
    "            )\n",
    "            return {\n",
    "                \"from\": account.address,\n",
    "                \"to\": to,\n",
    "                \"value\": amount,\n",
    "                \"gasPrice\": w3.eth.gasPrice,\n",
    "                \"gas\": gasEstimate,\n",
    "                \"nonce\": w3.eth.getTransactionCount(\n",
    "                    account.address),\n",
    "            }\n",
    "\n",
    "    elif coin == BTCTEST:\n",
    "        return PrivateKeyTestnet.prepare_transaction(\n",
    "            account.address, \n",
    "            [(to, amount, BTC)])\n",
    "    else:\n",
    "        print(\"Pleae check the coin\")"
   ]
  },
  {
   "cell_type": "code",
   "execution_count": 10,
   "metadata": {},
   "outputs": [],
   "source": [
    "def send_tx(coin, account, to, amount):\n",
    "    tx = create_tx(coin, account, to, amount)\n",
    "    signed = account.sign_transaction(tx)\n",
    "    if coin == ETH:\n",
    "        return w3.eth.sendRawTransaction(\n",
    "            signed.rawTransaction)\n",
    "    elif coin == BTCTEST:\n",
    "        return NetworkAPI.broadcast_tx_testnet(signed)\n",
    "    else:\n",
    "        print(\"Please check the coin\")\n"
   ]
  },
  {
   "cell_type": "code",
   "execution_count": 11,
   "metadata": {},
   "outputs": [
    {
     "data": {
      "text/plain": [
       "HexBytes('0xf99c9d91f1d372712d277687774c374f3a49f336ae73878e540511792754eda0')"
      ]
     },
     "execution_count": 11,
     "metadata": {},
     "output_type": "execute_result"
    }
   ],
   "source": [
    "coins = {}\n",
    "\n",
    "coin = ETH\n",
    "coins[coin] = derive_wallets(mnemonic, coin)\n",
    "\n",
    "priv_key = coins[coin][0]['privkey']\n",
    "account = priv_key_to_account(coin, priv_key)\n",
    "\n",
    "recipient = coins[coin][1]['address']\n",
    "amount = 1\n",
    "tx_created = create_tx(coin, account, recipient, amount)\n",
    "send_tx(coin, account, recipient, amount)"
   ]
  },
  {
   "cell_type": "code",
   "execution_count": 12,
   "metadata": {},
   "outputs": [],
   "source": [
    "coin = BTCTEST\n",
    "coins[coin] = derive_wallets(mnemonic, coin)\n",
    "\n",
    "priv_key = coins[coin][0]['privkey']\n",
    "account = priv_key_to_account(coin, priv_key)\n",
    "\n",
    "recipient = coins[coin][1]['address']\n",
    "amount = 0.0000001\n",
    "tx_created = create_tx(coin, account, recipient, amount)\n",
    "send_tx(coin, account, recipient, amount)"
   ]
  },
  {
   "cell_type": "code",
   "execution_count": null,
   "metadata": {},
   "outputs": [],
   "source": []
  }
 ],
 "metadata": {
  "kernelspec": {
   "display_name": "Python [conda env:ethereum] *",
   "language": "python",
   "name": "conda-env-ethereum-py"
  },
  "language_info": {
   "codemirror_mode": {
    "name": "ipython",
    "version": 3
   },
   "file_extension": ".py",
   "mimetype": "text/x-python",
   "name": "python",
   "nbconvert_exporter": "python",
   "pygments_lexer": "ipython3",
   "version": "3.7.7"
  }
 },
 "nbformat": 4,
 "nbformat_minor": 4
}
