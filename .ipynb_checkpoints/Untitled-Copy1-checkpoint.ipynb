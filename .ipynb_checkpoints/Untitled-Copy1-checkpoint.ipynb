{
 "cells": [
  {
   "cell_type": "code",
   "execution_count": 1,
   "metadata": {},
   "outputs": [],
   "source": [
    "import os\n",
    "import subprocess\n",
    "import json\n",
    "from constants import *"
   ]
  },
  {
   "cell_type": "code",
   "execution_count": 2,
   "metadata": {},
   "outputs": [
    {
     "name": "stderr",
     "output_type": "stream",
     "text": [
      "Consider installing rusty-rlp to improve pyrlp performance with a rust based backend\n"
     ]
    }
   ],
   "source": [
    "import os\n",
    "from web3 import Web3\n",
    "from dotenv import load_dotenv\n",
    "from web3.middleware import geth_poa_middleware\n",
    "from eth_account import Account"
   ]
  },
  {
   "cell_type": "code",
   "execution_count": 3,
   "metadata": {},
   "outputs": [],
   "source": [
    "mnemonic = os.getenv('MNEMONIC', \n",
    "    ('advance remember smart hybrid immense '\n",
    "     'alien medal duty region culture spread lounge'))\n"
   ]
  },
  {
   "cell_type": "markdown",
   "metadata": {},
   "source": [
    "mnemonic"
   ]
  },
  {
   "cell_type": "code",
   "execution_count": 4,
   "metadata": {},
   "outputs": [
    {
     "name": "stdout",
     "output_type": "stream",
     "text": [
      "Account\t BTC\t BTCTEST\t ETH\t Web3\t geth_poa_middleware\t json\t load_dotenv\t mnemonic\t \n",
      "os\t subprocess\t \n"
     ]
    }
   ],
   "source": [
    "%who"
   ]
  },
  {
   "cell_type": "code",
   "execution_count": 5,
   "metadata": {},
   "outputs": [
    {
     "data": {
      "text/plain": [
       "'advance remember smart hybrid immense alien medal duty region culture spread lounge'"
      ]
     },
     "execution_count": 5,
     "metadata": {},
     "output_type": "execute_result"
    }
   ],
   "source": [
    "mnemonic"
   ]
  },
  {
   "cell_type": "code",
   "execution_count": 6,
   "metadata": {},
   "outputs": [
    {
     "data": {
      "text/plain": [
       "str"
      ]
     },
     "execution_count": 6,
     "metadata": {},
     "output_type": "execute_result"
    }
   ],
   "source": [
    "type(mnemonic)"
   ]
  },
  {
   "cell_type": "code",
   "execution_count": 7,
   "metadata": {},
   "outputs": [],
   "source": [
    "command = (f'./derive -g --mnemonic=\"{mnemonic}\" '\n",
    "           f'--coin=\"{BTC}\" --numderive=3 '\n",
    "           '--cols=path,address,privkey,pubkey --format=json')"
   ]
  },
  {
   "cell_type": "code",
   "execution_count": 8,
   "metadata": {},
   "outputs": [
    {
     "data": {
      "text/plain": [
       "'./derive -g --mnemonic=\"advance remember smart hybrid immense alien medal duty region culture spread lounge\" --coin=\"btc\" --numderive=3 --cols=path,address,privkey,pubkey --format=json'"
      ]
     },
     "execution_count": 8,
     "metadata": {},
     "output_type": "execute_result"
    }
   ],
   "source": [
    "command"
   ]
  },
  {
   "cell_type": "code",
   "execution_count": 9,
   "metadata": {},
   "outputs": [
    {
     "name": "stdout",
     "output_type": "stream",
     "text": [
      "[{'path': \"m/44'/0'/0'/0/0\", 'address': '1BGqGWhvyE61ENaA9GqssveyWkxoXSFy5B', 'privkey': 'KygGamF6DeXSzDpdeAzHMccevvxn16k3WBcPJBaNJSVhyeXUDAi8', 'pubkey': '0374235f2c59c03ca6a5d694c39c03c2156fe6eff90563ba89010967bd0baf2894'}, {'path': \"m/44'/0'/0'/0/1\", 'address': '1LbwdCC3mHCLexrVqEPduFxaBE42jyu1NW', 'privkey': 'L2kDok9T4EDHbkzEJyfRFQjTLyPJzdnwKk48V3v72CyXxtxxhroZ', 'pubkey': '03909559f9b88eaf0242af233a1efa6c210db127f7901d17eae1dca3a1a4523c72'}, {'path': \"m/44'/0'/0'/0/2\", 'address': '1HFC4RjxjPNV9FDauJxEPnJN9ypykgbfsn', 'privkey': 'L1zCZVogZFYf956QfZJRKa75eCXqV1kPo6n1c3rhf8imR1GhXhbL', 'pubkey': '03aafe306bc9fd1faba76d6ce7cd690e5eaafa1402ecb37221c8318da366764c09'}]\n"
     ]
    }
   ],
   "source": [
    "p = subprocess.Popen(command, stdout=subprocess.PIPE, shell=True)\n",
    "output, err = p.communicate()\n",
    "p_status = p.wait()\n",
    "\n",
    "keys = json.loads(output)\n",
    "print(keys)"
   ]
  },
  {
   "cell_type": "code",
   "execution_count": 10,
   "metadata": {},
   "outputs": [
    {
     "data": {
      "text/plain": [
       "'L2kDok9T4EDHbkzEJyfRFQjTLyPJzdnwKk48V3v72CyXxtxxhroZ'"
      ]
     },
     "execution_count": 10,
     "metadata": {},
     "output_type": "execute_result"
    }
   ],
   "source": [
    "keys[1]['privkey']"
   ]
  },
  {
   "cell_type": "code",
   "execution_count": 11,
   "metadata": {},
   "outputs": [
    {
     "data": {
      "text/plain": [
       "3"
      ]
     },
     "execution_count": 11,
     "metadata": {},
     "output_type": "execute_result"
    }
   ],
   "source": [
    "len(keys)"
   ]
  },
  {
   "cell_type": "code",
   "execution_count": 12,
   "metadata": {},
   "outputs": [],
   "source": [
    "def derive_wallets(mnemonic, BTC, numdriv=3):\n",
    "    command = (f'./derive -g --mnemonic=\"{mnemonic}\" '\n",
    "            f'--coin=\"{BTC}\" --numderive={numdriv} '\n",
    "            '--cols=path,address,privkey,pubkey --format=json')\n",
    "\n",
    "    p = subprocess.Popen(command, stdout=subprocess.PIPE, shell=True)\n",
    "    output, err = p.communicate()\n",
    "    p_status = p.wait()\n",
    "\n",
    "    keys = json.loads(output)\n",
    "    #print(keys)\n",
    "    return keys"
   ]
  },
  {
   "cell_type": "code",
   "execution_count": 13,
   "metadata": {},
   "outputs": [],
   "source": [
    "coin_names = [BTC, BTCTEST]\n",
    "coins = {}\n",
    "for coin_name in coin_names:\n",
    "    coins[coin_name] = derive_wallets(mnemonic, coin_name)\n",
    "#coins[BTCTEST] = derive_wallets(mnemonic, BTCTEST)"
   ]
  },
  {
   "cell_type": "code",
   "execution_count": 14,
   "metadata": {},
   "outputs": [
    {
     "data": {
      "text/plain": [
       "'KygGamF6DeXSzDpdeAzHMccevvxn16k3WBcPJBaNJSVhyeXUDAi8'"
      ]
     },
     "execution_count": 14,
     "metadata": {},
     "output_type": "execute_result"
    }
   ],
   "source": [
    "coins[coin_names[0]][0]['privkey']"
   ]
  },
  {
   "cell_type": "code",
   "execution_count": 15,
   "metadata": {},
   "outputs": [],
   "source": [
    "#!pip install bit"
   ]
  },
  {
   "cell_type": "code",
   "execution_count": 25,
   "metadata": {},
   "outputs": [],
   "source": [
    "from bit import wif_to_key, PrivateKeyTestnet"
   ]
  },
  {
   "cell_type": "code",
   "execution_count": 17,
   "metadata": {},
   "outputs": [],
   "source": [
    "coin = coin_names[0]\n",
    "key = wif_to_key(coins[coin_names[1]][0]['privkey'])"
   ]
  },
  {
   "cell_type": "code",
   "execution_count": 18,
   "metadata": {},
   "outputs": [
    {
     "name": "stdout",
     "output_type": "stream",
     "text": [
      "0.00045151\n"
     ]
    }
   ],
   "source": [
    "print(key.get_balance(\"btc\"))"
   ]
  },
  {
   "cell_type": "code",
   "execution_count": 20,
   "metadata": {},
   "outputs": [
    {
     "data": {
      "text/plain": [
       "True"
      ]
     },
     "execution_count": 20,
     "metadata": {},
     "output_type": "execute_result"
    }
   ],
   "source": [
    "coin == BTC"
   ]
  },
  {
   "cell_type": "code",
   "execution_count": 22,
   "metadata": {},
   "outputs": [],
   "source": [
    "def priv_key_to_account(coin, priv_key):\n",
    "    if coin == BTC:\n",
    "        return Account.privateKeyToAccount(priv_key)\n",
    "    elif coin == BTCTEST:\n",
    "        return PrivateKeyTestnet(priv_key)\n",
    "    else:\n",
    "        print(\"Pleae check the coin\")\n",
    "     "
   ]
  },
  {
   "cell_type": "code",
   "execution_count": null,
   "metadata": {},
   "outputs": [],
   "source": [
    "account = priv_key_to_account(coin_names[0], )"
   ]
  },
  {
   "cell_type": "code",
   "execution_count": 23,
   "metadata": {},
   "outputs": [],
   "source": [
    "def create_tx(coin, account, recipient, amount):\n",
    "    if coin == ETH:\n",
    "            gasEstimate = w3.eth.estimateGas(\n",
    "                {\"from\": account.address, \n",
    "                 \"to\": recipient, \n",
    "                 \"value\": amount}\n",
    "            )\n",
    "            return {\n",
    "                \"from\": account.address,\n",
    "                \"to\": recipient,\n",
    "                \"value\": amount,\n",
    "                \"gasPrice\": w3.eth.gasPrice,\n",
    "                \"gas\": gasEstimate,\n",
    "                \"nonce\": w3.eth.getTransactionCount(account.address),\n",
    "            }\n",
    "\n",
    "\n",
    "    elif coin == BTCTEST:\n",
    "        return PrivateKeyTestnet.prepare_transaction(\n",
    "            account.address, \n",
    "            [(to, amount, BTC)])\n",
    "    else:\n",
    "        print(\"Pleae check the coin\")"
   ]
  },
  {
   "cell_type": "code",
   "execution_count": 26,
   "metadata": {},
   "outputs": [],
   "source": [
    "def send_tx(coin, account, recipient, amount):\n",
    "    tx = create_tx(coin, account, recipient, amount)\n",
    "    signed_tx = account.sign_transaction(tx)\n",
    "    if coin == ETH:\n",
    "        result = w3.eth.sendRawTransaction(\n",
    "            signed_tx.rawTransaction)\n",
    "    elif coin == BTCTEST:\n",
    "        result = NetworkAPI.broadcast_tx_testnet(signed)\n",
    "    else:\n",
    "        print(\"Please check the coin\")\n",
    "    #print(result.hex())\n",
    "    return result.hex()"
   ]
  },
  {
   "cell_type": "code",
   "execution_count": null,
   "metadata": {},
   "outputs": [],
   "source": []
  }
 ],
 "metadata": {
  "kernelspec": {
   "display_name": "Python [conda env:eth] *",
   "language": "python",
   "name": "conda-env-eth-py"
  },
  "language_info": {
   "codemirror_mode": {
    "name": "ipython",
    "version": 3
   },
   "file_extension": ".py",
   "mimetype": "text/x-python",
   "name": "python",
   "nbconvert_exporter": "python",
   "pygments_lexer": "ipython3",
   "version": "3.7.7"
  }
 },
 "nbformat": 4,
 "nbformat_minor": 4
}
